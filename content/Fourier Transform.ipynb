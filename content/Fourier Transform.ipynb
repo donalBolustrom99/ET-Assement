{
 "cells": [
  {
   "cell_type": "markdown",
   "id": "cc59fb65",
   "metadata": {},
   "source": [
    "# Fast Fourier Transform Notebook\n",
    "\n",
    "## Complex Numbers\n",
    "\n",
    "Complex Number take the form of a + bi, a and b being real numbers and i is the imaginary number. The side with a is considered the real part of the complex number, and the side bi, is called the imaginary side.  \n",
    "**For Example** the complex number 2 + 5i, 2 is the real part and 5i is imaginary.    \n",
    "<br />The **Real** Part of the complex number is the horizontal coordinate on a complex plane, and the **imaginary** Part is the vertical coordinate\n",
    "<br />Complex Numbers can be added, subtracted, multiplied and divided, this is achieved by manipulating algebraic expressions. Complex Numbers are used in mathematics, engineering, physics ect."
   ]
  },
  {
   "cell_type": "code",
   "execution_count": 1,
   "id": "673a0f7d",
   "metadata": {},
   "outputs": [
    {
     "data": {
      "text/plain": [
       "(2, 8)"
      ]
     },
     "execution_count": 1,
     "metadata": {},
     "output_type": "execute_result"
    }
   ],
   "source": [
    "# Declaring X Varible for Examples\n",
    "x = (2,8)\n",
    "x"
   ]
  },
  {
   "cell_type": "code",
   "execution_count": 2,
   "id": "0c89c4fa",
   "metadata": {},
   "outputs": [
    {
     "data": {
      "text/plain": [
       "(-5, 2)"
      ]
     },
     "execution_count": 2,
     "metadata": {},
     "output_type": "execute_result"
    }
   ],
   "source": [
    "# Declaring Y Varible for Examples\n",
    "y = (-5, 2)\n",
    "y"
   ]
  },
  {
   "cell_type": "code",
   "execution_count": 3,
   "id": "106e527c",
   "metadata": {},
   "outputs": [
    {
     "data": {
      "text/plain": [
       "(-3, 10)"
      ]
     },
     "execution_count": 3,
     "metadata": {},
     "output_type": "execute_result"
    }
   ],
   "source": [
    "# Addition\n",
    "def add (x,y):\n",
    "    return (x[0] + y[0], x[1] + y[1])\n",
    "\n",
    "add(x, y)"
   ]
  },
  {
   "cell_type": "markdown",
   "id": "923eb483",
   "metadata": {},
   "source": [
    "Below, like mentioned above we manipulate algebraic expressions to achieve complex multiplication, here we assign two variables to the seperate parts of the points of x and y so we can multiply them our further"
   ]
  },
  {
   "cell_type": "code",
   "execution_count": 4,
   "id": "4f717242",
   "metadata": {},
   "outputs": [
    {
     "data": {
      "text/plain": [
       "(-26, -36)"
      ]
     },
     "execution_count": 4,
     "metadata": {},
     "output_type": "execute_result"
    }
   ],
   "source": [
    "# Multiplication\n",
    "def multiply(x, y):\n",
    "    a, b = x\n",
    "    c, d = y\n",
    "    return (a * c - b * d, a * d + b * c)\n",
    "\n",
    "multiply(x, y)"
   ]
  },
  {
   "cell_type": "markdown",
   "id": "6d945c36",
   "metadata": {},
   "source": [
    "Python has a built in type called **complex** used to create complex numbers"
   ]
  },
  {
   "cell_type": "code",
   "execution_count": 5,
   "id": "3a5e426d",
   "metadata": {},
   "outputs": [
    {
     "data": {
      "text/plain": [
       "(2+4j)"
      ]
     },
     "execution_count": 5,
     "metadata": {},
     "output_type": "execute_result"
    }
   ],
   "source": [
    "z = complex(2, 4)\n",
    "z"
   ]
  },
  {
   "cell_type": "code",
   "execution_count": 6,
   "id": "5cd925a5",
   "metadata": {},
   "outputs": [
    {
     "name": "stdout",
     "output_type": "stream",
     "text": [
      "2.0\n",
      "4.0\n"
     ]
    }
   ],
   "source": [
    "print(z.real)\n",
    "print(z.imag)"
   ]
  },
  {
   "cell_type": "markdown",
   "id": "783c2ca2",
   "metadata": {},
   "source": [
    "In addition to making functions as shown above to add and multiply, you can also use the respective symbols."
   ]
  },
  {
   "cell_type": "code",
   "execution_count": 7,
   "id": "5535555f",
   "metadata": {},
   "outputs": [
    {
     "data": {
      "text/plain": [
       "(-2+10j)"
      ]
     },
     "execution_count": 7,
     "metadata": {},
     "output_type": "execute_result"
    }
   ],
   "source": [
    "# Addition using symbol for addition\n",
    "(2 + 2j) + (-4 + 8j)"
   ]
  },
  {
   "cell_type": "code",
   "execution_count": 8,
   "id": "928b9588",
   "metadata": {},
   "outputs": [
    {
     "data": {
      "text/plain": [
       "(-24+8j)"
      ]
     },
     "execution_count": 8,
     "metadata": {},
     "output_type": "execute_result"
    }
   ],
   "source": [
    "# Multiplication using symbol for multiplication\n",
    "(2 + 2j) * (-4 + 8j)"
   ]
  },
  {
   "cell_type": "markdown",
   "id": "11e2343b",
   "metadata": {},
   "source": [
    "### Object Oriented Form"
   ]
  },
  {
   "cell_type": "code",
   "execution_count": 18,
   "id": "32a76670",
   "metadata": {},
   "outputs": [],
   "source": [
    "class Complex():\n",
    "    def __init__(self, a, b):\n",
    "        self.a = a\n",
    "        self.b = b\n",
    "        \n",
    "    def __add__(self, other):\n",
    "        return Complex(self.a + other.a, self.b + other.b)\n",
    "    \n",
    "    def __mul__(self, other):\n",
    "        a, b = self.a, self.b\n",
    "        c, d = other.a, other.b\n",
    "        return Complex(a*c - b*d, a*d + b*c)\n",
    "    \n",
    "    def __repr__(self):\n",
    "        return f'Complex({self.a}, {self.b})'"
   ]
  },
  {
   "cell_type": "markdown",
   "id": "d0d95021",
   "metadata": {},
   "source": [
    "Now with this class created we can mess around similarly with addition ect, but using instances of the class Complex, this way we can come up and assign numbers on the fly"
   ]
  },
  {
   "cell_type": "code",
   "execution_count": 19,
   "id": "6ba7e307",
   "metadata": {},
   "outputs": [
    {
     "data": {
      "text/plain": [
       "Complex(2, 5)"
      ]
     },
     "execution_count": 19,
     "metadata": {},
     "output_type": "execute_result"
    }
   ],
   "source": [
    "# Creating an Instance of the class Complex\n",
    "Complex(2, 5)"
   ]
  },
  {
   "cell_type": "code",
   "execution_count": 20,
   "id": "1f54e69b",
   "metadata": {},
   "outputs": [
    {
     "data": {
      "text/plain": [
       "Complex(-1, 4)"
      ]
     },
     "execution_count": 20,
     "metadata": {},
     "output_type": "execute_result"
    }
   ],
   "source": [
    "Complex(-1, 4)"
   ]
  },
  {
   "cell_type": "code",
   "execution_count": 22,
   "id": "f9f17760",
   "metadata": {},
   "outputs": [
    {
     "data": {
      "text/plain": [
       "Complex(1, 9)"
      ]
     },
     "execution_count": 22,
     "metadata": {},
     "output_type": "execute_result"
    }
   ],
   "source": [
    "# Overloading class with addition\n",
    "Complex(2, 5) + Complex(-1, 4)"
   ]
  },
  {
   "cell_type": "code",
   "execution_count": 23,
   "id": "3db674e8",
   "metadata": {},
   "outputs": [
    {
     "data": {
      "text/plain": [
       "Complex(-22, 3)"
      ]
     },
     "execution_count": 23,
     "metadata": {},
     "output_type": "execute_result"
    }
   ],
   "source": [
    "# Overloading class with multiplication\n",
    "Complex(2, 5) * Complex(-1, 4)"
   ]
  },
  {
   "cell_type": "code",
   "execution_count": 24,
   "id": "5026f30c",
   "metadata": {},
   "outputs": [],
   "source": [
    "# Assigning Variables to instances\n",
    "x = Complex(2, 5)\n",
    "y = Complex(-1, 4)"
   ]
  },
  {
   "cell_type": "code",
   "execution_count": 26,
   "id": "4446b07f",
   "metadata": {},
   "outputs": [
    {
     "data": {
      "text/plain": [
       "Complex(1, 9)"
      ]
     },
     "execution_count": 26,
     "metadata": {},
     "output_type": "execute_result"
    }
   ],
   "source": [
    "# Addition with instances\n",
    "x + y"
   ]
  },
  {
   "cell_type": "code",
   "execution_count": 28,
   "id": "59b4aa3f",
   "metadata": {},
   "outputs": [
    {
     "data": {
      "text/plain": [
       "Complex(-22, 3)"
      ]
     },
     "execution_count": 28,
     "metadata": {},
     "output_type": "execute_result"
    }
   ],
   "source": [
    "# Multiplaction with instances\n",
    "x * y"
   ]
  },
  {
   "cell_type": "code",
   "execution_count": null,
   "id": "3953cbf9",
   "metadata": {},
   "outputs": [],
   "source": []
  },
  {
   "cell_type": "code",
   "execution_count": null,
   "id": "63522906",
   "metadata": {},
   "outputs": [],
   "source": []
  },
  {
   "cell_type": "code",
   "execution_count": null,
   "id": "78285bfa",
   "metadata": {},
   "outputs": [],
   "source": []
  },
  {
   "cell_type": "code",
   "execution_count": null,
   "id": "2370b3c5",
   "metadata": {},
   "outputs": [],
   "source": []
  },
  {
   "cell_type": "code",
   "execution_count": null,
   "id": "94abc7f0",
   "metadata": {},
   "outputs": [],
   "source": []
  },
  {
   "cell_type": "code",
   "execution_count": null,
   "id": "a2470165",
   "metadata": {},
   "outputs": [],
   "source": []
  },
  {
   "cell_type": "code",
   "execution_count": null,
   "id": "dc08d37e",
   "metadata": {},
   "outputs": [],
   "source": []
  },
  {
   "cell_type": "markdown",
   "id": "2a88f9ab",
   "metadata": {},
   "source": [
    "https://realpython.com/python3-object-oriented-programming/"
   ]
  }
 ],
 "metadata": {
  "kernelspec": {
   "display_name": "Python 3 (ipykernel)",
   "language": "python",
   "name": "python3"
  },
  "language_info": {
   "codemirror_mode": {
    "name": "ipython",
    "version": 3
   },
   "file_extension": ".py",
   "mimetype": "text/x-python",
   "name": "python",
   "nbconvert_exporter": "python",
   "pygments_lexer": "ipython3",
   "version": "3.9.7"
  }
 },
 "nbformat": 4,
 "nbformat_minor": 5
}
