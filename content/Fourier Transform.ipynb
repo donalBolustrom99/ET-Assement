{
 "cells": [
  {
   "cell_type": "markdown",
   "id": "d5a145d8",
   "metadata": {},
   "source": [
    "# Fast Fourier Transform Notebook\n",
    "\n",
    "## Complex Numbers\n",
    "\n"
   ]
  },
  {
   "cell_type": "code",
   "execution_count": 10,
   "id": "bad7c519",
   "metadata": {},
   "outputs": [
    {
     "data": {
      "text/plain": [
       "(2, 6)"
      ]
     },
     "execution_count": 10,
     "metadata": {},
     "output_type": "execute_result"
    }
   ],
   "source": [
    "# Declaring X Varible for Examples\n",
    "x = (2,6)\n",
    "x"
   ]
  },
  {
   "cell_type": "code",
   "execution_count": 11,
   "id": "6ac04e0e",
   "metadata": {},
   "outputs": [
    {
     "data": {
      "text/plain": [
       "(-4, 2)"
      ]
     },
     "execution_count": 11,
     "metadata": {},
     "output_type": "execute_result"
    }
   ],
   "source": [
    "# Declaring Y Varible for Examples\n",
    "y = (-4, 2)\n",
    "y"
   ]
  },
  {
   "cell_type": "code",
   "execution_count": 14,
   "id": "29681a21",
   "metadata": {},
   "outputs": [
    {
     "data": {
      "text/plain": [
       "(-2, 8)"
      ]
     },
     "execution_count": 14,
     "metadata": {},
     "output_type": "execute_result"
    }
   ],
   "source": [
    "# Addition\n",
    "def add (x,y):\n",
    "    return (x[0] + y[0], x[1] + y[1])\n",
    "\n",
    "add(x, y)"
   ]
  },
  {
   "cell_type": "code",
   "execution_count": 15,
   "id": "c4a0927b",
   "metadata": {},
   "outputs": [],
   "source": [
    "# Multiplication"
   ]
  },
  {
   "cell_type": "code",
   "execution_count": null,
   "id": "05aa225b",
   "metadata": {},
   "outputs": [],
   "source": []
  }
 ],
 "metadata": {
  "kernelspec": {
   "display_name": "Python 3 (ipykernel)",
   "language": "python",
   "name": "python3"
  },
  "language_info": {
   "codemirror_mode": {
    "name": "ipython",
    "version": 3
   },
   "file_extension": ".py",
   "mimetype": "text/x-python",
   "name": "python",
   "nbconvert_exporter": "python",
   "pygments_lexer": "ipython3",
   "version": "3.9.7"
  }
 },
 "nbformat": 4,
 "nbformat_minor": 5
}
