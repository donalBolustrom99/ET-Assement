{
 "cells": [
  {
   "cell_type": "markdown",
   "id": "cc59fb65",
   "metadata": {},
   "source": [
    "# Fast Fourier Transform Notebook\n",
    "\n",
    "## Complex Numbers\n",
    "\n",
    "Complex Number take the form of a + bi, a and b being real numbers and i is the imaginary number. The side with a is considered the real part of the complex number, and the side bi, is called the imaginary side.  \n",
    "**For Example** the complex number 2 + 5i, 2 is the real part and 5i is imaginary.    \n",
    "<br />The **Real** Part of the complex number is the horizontal coordinate on a complex plane, and the **imaginary** Part is the vertical coordinate\n",
    "<br />Complex Numbers can be added, subtracted, multiplied and divided, this is achieved by manipulating algebraic expressions. Complex Numbers are used in mathematics, engineering, physics ect."
   ]
  },
  {
   "cell_type": "code",
   "execution_count": 1,
   "id": "673a0f7d",
   "metadata": {},
   "outputs": [
    {
     "data": {
      "text/plain": [
       "(2, 8)"
      ]
     },
     "execution_count": 1,
     "metadata": {},
     "output_type": "execute_result"
    }
   ],
   "source": [
    "# Declaring X Varible for Examples\n",
    "x = (2,8)\n",
    "x"
   ]
  },
  {
   "cell_type": "code",
   "execution_count": 2,
   "id": "0c89c4fa",
   "metadata": {},
   "outputs": [
    {
     "data": {
      "text/plain": [
       "(-5, 2)"
      ]
     },
     "execution_count": 2,
     "metadata": {},
     "output_type": "execute_result"
    }
   ],
   "source": [
    "# Declaring Y Varible for Examples\n",
    "y = (-5, 2)\n",
    "y"
   ]
  },
  {
   "cell_type": "code",
   "execution_count": 3,
   "id": "106e527c",
   "metadata": {},
   "outputs": [
    {
     "data": {
      "text/plain": [
       "(-3, 10)"
      ]
     },
     "execution_count": 3,
     "metadata": {},
     "output_type": "execute_result"
    }
   ],
   "source": [
    "# Addition\n",
    "def add (x,y):\n",
    "    return (x[0] + y[0], x[1] + y[1])\n",
    "\n",
    "add(x, y)"
   ]
  },
  {
   "cell_type": "markdown",
   "id": "923eb483",
   "metadata": {},
   "source": [
    "Below, like mentioned above we manipulate algebraic expressions to achieve complex multiplication, here we assign two variables to the seperate parts of the points of x and y so we can multiply them our further"
   ]
  },
  {
   "cell_type": "code",
   "execution_count": 4,
   "id": "4f717242",
   "metadata": {},
   "outputs": [
    {
     "data": {
      "text/plain": [
       "(-26, -36)"
      ]
     },
     "execution_count": 4,
     "metadata": {},
     "output_type": "execute_result"
    }
   ],
   "source": [
    "# Multiplication\n",
    "def multiply(x, y):\n",
    "    a, b = x\n",
    "    c, d = y\n",
    "    return (a * c - b * d, a * d + b * c)\n",
    "\n",
    "multiply(x, y)"
   ]
  },
  {
   "cell_type": "markdown",
   "id": "6d945c36",
   "metadata": {},
   "source": [
    "Python has a built in type called **complex** used to create complex numbers"
   ]
  },
  {
   "cell_type": "code",
   "execution_count": 5,
   "id": "3a5e426d",
   "metadata": {},
   "outputs": [
    {
     "data": {
      "text/plain": [
       "(2+4j)"
      ]
     },
     "execution_count": 5,
     "metadata": {},
     "output_type": "execute_result"
    }
   ],
   "source": [
    "z = complex(2, 4)\n",
    "z"
   ]
  },
  {
   "cell_type": "code",
   "execution_count": 6,
   "id": "5cd925a5",
   "metadata": {},
   "outputs": [
    {
     "name": "stdout",
     "output_type": "stream",
     "text": [
      "2.0\n",
      "4.0\n"
     ]
    }
   ],
   "source": [
    "print(z.real)\n",
    "print(z.imag)"
   ]
  },
  {
   "cell_type": "markdown",
   "id": "783c2ca2",
   "metadata": {},
   "source": [
    "In addition to making functions as shown above to add and multiply, you can also use the respective symbols."
   ]
  },
  {
   "cell_type": "code",
   "execution_count": 7,
   "id": "5535555f",
   "metadata": {},
   "outputs": [
    {
     "data": {
      "text/plain": [
       "(-2+10j)"
      ]
     },
     "execution_count": 7,
     "metadata": {},
     "output_type": "execute_result"
    }
   ],
   "source": [
    "# Addition using symbol for addition\n",
    "(2 + 2j) + (-4 + 8j)"
   ]
  },
  {
   "cell_type": "code",
   "execution_count": 8,
   "id": "928b9588",
   "metadata": {},
   "outputs": [
    {
     "data": {
      "text/plain": [
       "(-24+8j)"
      ]
     },
     "execution_count": 8,
     "metadata": {},
     "output_type": "execute_result"
    }
   ],
   "source": [
    "# Multiplication using symbol for multiplication\n",
    "(2 + 2j) * (-4 + 8j)"
   ]
  },
  {
   "cell_type": "markdown",
   "id": "11e2343b",
   "metadata": {},
   "source": [
    "### Object Oriented Form"
   ]
  },
  {
   "cell_type": "code",
   "execution_count": 9,
   "id": "32a76670",
   "metadata": {},
   "outputs": [],
   "source": [
    "class Complex():\n",
    "    def __init__(self, a, b):\n",
    "        self.a = a\n",
    "        self.b = b\n",
    "        \n",
    "    def __add__(self, other):\n",
    "        return Complex(self.a + other.a, self.b + other.b)\n",
    "    \n",
    "    def __mul__(self, other):\n",
    "        a, b = self.a, self.b\n",
    "        c, d = other.a, other.b\n",
    "        return Complex(a*c - b*d, a*d + b*c)\n",
    "    \n",
    "    def __repr__(self):\n",
    "        return f'Complex({self.a}, {self.b})'"
   ]
  },
  {
   "cell_type": "markdown",
   "id": "d0d95021",
   "metadata": {},
   "source": [
    "Now with this class created we can mess around similarly with addition ect, but using instances of the class Complex, this way we can come up and assign numbers on the fly"
   ]
  },
  {
   "cell_type": "code",
   "execution_count": 10,
   "id": "6ba7e307",
   "metadata": {},
   "outputs": [
    {
     "data": {
      "text/plain": [
       "Complex(2, 5)"
      ]
     },
     "execution_count": 10,
     "metadata": {},
     "output_type": "execute_result"
    }
   ],
   "source": [
    "# Creating an Instance of the class Complex\n",
    "Complex(2, 5)"
   ]
  },
  {
   "cell_type": "code",
   "execution_count": 11,
   "id": "1f54e69b",
   "metadata": {},
   "outputs": [
    {
     "data": {
      "text/plain": [
       "Complex(-1, 4)"
      ]
     },
     "execution_count": 11,
     "metadata": {},
     "output_type": "execute_result"
    }
   ],
   "source": [
    "Complex(-1, 4)"
   ]
  },
  {
   "cell_type": "code",
   "execution_count": 12,
   "id": "f9f17760",
   "metadata": {},
   "outputs": [
    {
     "data": {
      "text/plain": [
       "Complex(1, 9)"
      ]
     },
     "execution_count": 12,
     "metadata": {},
     "output_type": "execute_result"
    }
   ],
   "source": [
    "# Overloading class with addition\n",
    "Complex(2, 5) + Complex(-1, 4)"
   ]
  },
  {
   "cell_type": "code",
   "execution_count": 13,
   "id": "3db674e8",
   "metadata": {},
   "outputs": [
    {
     "data": {
      "text/plain": [
       "Complex(-22, 3)"
      ]
     },
     "execution_count": 13,
     "metadata": {},
     "output_type": "execute_result"
    }
   ],
   "source": [
    "# Overloading class with multiplication\n",
    "Complex(2, 5) * Complex(-1, 4)"
   ]
  },
  {
   "cell_type": "code",
   "execution_count": 14,
   "id": "5026f30c",
   "metadata": {},
   "outputs": [],
   "source": [
    "# Assigning Variables to instances\n",
    "x = Complex(2, 5)\n",
    "y = Complex(-1, 4)"
   ]
  },
  {
   "cell_type": "code",
   "execution_count": 15,
   "id": "4446b07f",
   "metadata": {},
   "outputs": [
    {
     "data": {
      "text/plain": [
       "Complex(1, 9)"
      ]
     },
     "execution_count": 15,
     "metadata": {},
     "output_type": "execute_result"
    }
   ],
   "source": [
    "# Addition with instances\n",
    "x + y"
   ]
  },
  {
   "cell_type": "code",
   "execution_count": 16,
   "id": "59b4aa3f",
   "metadata": {},
   "outputs": [
    {
     "data": {
      "text/plain": [
       "Complex(-22, 3)"
      ]
     },
     "execution_count": 16,
     "metadata": {},
     "output_type": "execute_result"
    }
   ],
   "source": [
    "# Multiplaction with instances\n",
    "x * y"
   ]
  },
  {
   "cell_type": "markdown",
   "id": "d49f9ade",
   "metadata": {},
   "source": [
    "## Plots of Parabolas"
   ]
  },
  {
   "cell_type": "markdown",
   "id": "27513659",
   "metadata": {},
   "source": [
    "**Parabola:** Parabola is a type of curve plotted on a graph that takes a U like shape and is symmetrical. A Parabola is usually defined by a quadrati equation.   \n",
    "It can be either concave or convex depending on if A is positive or negative.   \n",
    "Typically parabolas is similar to a path a projectile will take, like a footballer taking a free kick, this is the most common example.   \n",
    "Typically a parabola is written in the form of **y=ax^2 + bx + c**   \n",
    "<ul>\n",
    "  <li>X and Y are the coordinates of the points on the curve</li>\n",
    "  <li>A B and C are Constants</li>   \n",
    "</ul>\n",
    "    A Determines the direction and shape, if A is positive, the parabola is concave upward, and vice versa if negative"
   ]
  },
  {
   "cell_type": "code",
   "execution_count": 17,
   "id": "63522906",
   "metadata": {},
   "outputs": [],
   "source": [
    "# Imports\n",
    "import matplotlib.pyplot as plt\n",
    "import numpy as np"
   ]
  },
  {
   "cell_type": "code",
   "execution_count": 21,
   "id": "78285bfa",
   "metadata": {},
   "outputs": [
    {
     "data": {
      "image/png": "[encoded data removed]",
      "text/plain": [
       "<Figure size 1000x600 with 1 Axes>"
      ]
     },
     "metadata": {},
     "output_type": "display_data"
    }
   ],
   "source": [
    "# X value range\n",
    "x = np.linspace(-5.0, 5.0, 500)\n",
    "\n",
    "# Create figure\n",
    "fig, ax = plt.subplots(figsize=(10,6))\n",
    "\n",
    "# Plot X on figure\n",
    "ax.plot(x, x**2)\n",
    "ax.axhline(0.0, color=\"black\");\n"
   ]
  },
  {
   "cell_type": "markdown",
   "id": "0c7f9362",
   "metadata": {},
   "source": [
    "Here we change the x to negative  in the ax.plot line and we can see the parabola change shape"
   ]
  },
  {
   "cell_type": "code",
   "execution_count": 27,
   "id": "2370b3c5",
   "metadata": {},
   "outputs": [
    {
     "data": {
      "image/png": "[encoded data removed]",
      "text/plain": [
       "<Figure size 1000x600 with 1 Axes>"
      ]
     },
     "metadata": {},
     "output_type": "display_data"
    }
   ],
   "source": [
    "# X value range\n",
    "x = np.linspace(-5.0, 5.0, 500)\n",
    "\n",
    "# Create figure.\n",
    "fig, ax = plt.subplots(figsize=(10,6))\n",
    "\n",
    "# Plot X on figure\n",
    "ax.plot(x, -x**2 + 8)\n",
    "ax.axhline(0.0, color='black');"
   ]
  },
  {
   "cell_type": "code",
   "execution_count": null,
   "id": "e6608165",
   "metadata": {},
   "outputs": [],
   "source": []
  },
  {
   "cell_type": "code",
   "execution_count": null,
   "id": "94abc7f0",
   "metadata": {},
   "outputs": [],
   "source": []
  },
  {
   "cell_type": "code",
   "execution_count": null,
   "id": "a2470165",
   "metadata": {},
   "outputs": [],
   "source": []
  },
  {
   "cell_type": "code",
   "execution_count": null,
   "id": "dc08d37e",
   "metadata": {},
   "outputs": [],
   "source": []
  },
  {
   "cell_type": "markdown",
   "id": "2a88f9ab",
   "metadata": {},
   "source": [
    "https://realpython.com/python3-object-oriented-programming/"
   ]
  }
 ],
 "metadata": {
  "kernelspec": {
   "display_name": "Python 3 (ipykernel)",
   "language": "python",
   "name": "python3"
  },
  "language_info": {
   "codemirror_mode": {
    "name": "ipython",
    "version": 3
   },
   "file_extension": ".py",
   "mimetype": "text/x-python",
   "name": "python",
   "nbconvert_exporter": "python",
   "pygments_lexer": "ipython3",
   "version": "3.9.15"
  }
 },
 "nbformat": 4,
 "nbformat_minor": 5
}
