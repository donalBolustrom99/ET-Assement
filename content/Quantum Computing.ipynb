{
 "cells": [
  {
   "cell_type": "markdown",
   "id": "23c41520",
   "metadata": {},
   "source": [
    "# Quantum Computing"
   ]
  },
  {
   "cell_type": "markdown",
   "id": "b2b3e0ca",
   "metadata": {},
   "source": [
    "## Quantum Gates"
   ]
  },
  {
   "cell_type": "code",
   "execution_count": 1,
   "id": "cd4c6f91",
   "metadata": {},
   "outputs": [],
   "source": [
    "# Imports\n",
    "import qiskit\n",
    "import qiskit.visualization as viz"
   ]
  },
  {
   "cell_type": "markdown",
   "id": "fbc37908",
   "metadata": {},
   "source": [
    "### H Gate (Hadamard Gate)\n",
    "H Gate acts on a single qubit, its used to put qubit into superpositions 1 or 2. H Gate is reversible, so it can be undone by applying it again. The G Gate is represented by the matrix below   \n",
    "<br>\n",
    "$ H = \\frac{1}{\\sqrt{2}} \\begin{bmatrix} 1 & 1 \\\\ 1 & -1 \\end{bmatrix} $"
   ]
  },
  {
   "cell_type": "markdown",
   "id": "8ac2cb81",
   "metadata": {},
   "source": [
    "#### Initial State 0\n",
    "$ 0 \\rangle = \\begin{bmatrix} 1 \\\\ 0 \\end{bmatrix}$"
   ]
  },
  {
   "cell_type": "code",
   "execution_count": 2,
   "id": "85ab2a15",
   "metadata": {},
   "outputs": [
    {
     "data": {
      "image/png": "[encoded data removed]",
      "text/plain": [
       "<Figure size 193.726x144.48 with 1 Axes>"
      ]
     },
     "execution_count": 2,
     "metadata": {},
     "output_type": "execute_result"
    }
   ],
   "source": [
    "# Create a circuit.\n",
    "circuit = qiskit.QuantumCircuit(1, 1)\n",
    "\n",
    "# Add a gate.\n",
    "circuit.h(0)\n",
    "\n",
    "# Measure.\n",
    "circuit.measure(0, 0)\n",
    "\n",
    "# Draw the circuit\n",
    "circuit.draw(output='mpl')"
   ]
  },
  {
   "cell_type": "code",
   "execution_count": 3,
   "id": "262ab29d",
   "metadata": {},
   "outputs": [
    {
     "data": {
      "image/png": "[encoded data removed]",
      "text/plain": [
       "<Figure size 216x216 with 1 Axes>"
      ]
     },
     "execution_count": 3,
     "metadata": {},
     "output_type": "execute_result"
    }
   ],
   "source": [
    "# Get a simulator.\n",
    "sim = qiskit.Aer.get_backend('aer_simulator')\n",
    "\n",
    "# Simulte the circuit.\n",
    "result = sim.run(circuit).result().get_counts()\n",
    "\n",
    "# Histogram.\n",
    "viz.plot_histogram(result, figsize=(3, 3))"
   ]
  },
  {
   "cell_type": "markdown",
   "id": "a614dd84",
   "metadata": {},
   "source": [
    "#### Initial State 1\n",
    "$ 1 \\rangle = \\begin{bmatrix} 1 \\\\ 0 \\end{bmatrix}$"
   ]
  },
  {
   "cell_type": "code",
   "execution_count": 4,
   "id": "3c912af9",
   "metadata": {},
   "outputs": [
    {
     "data": {
      "image/png": "[encoded data removed]",
      "text/plain": [
       "<Figure size 237.569x144.48 with 1 Axes>"
      ]
     },
     "execution_count": 4,
     "metadata": {},
     "output_type": "execute_result"
    }
   ],
   "source": [
    "# Create a circuit.\n",
    "circuit = qiskit.QuantumCircuit(1, 1)\n",
    "\n",
    "# Add a gate.\n",
    "circuit.h(0)\n",
    "\n",
    "# Measure.\n",
    "circuit.measure(0, 0)\n",
    "\n",
    "# Draw the circuit\n",
    "circuit.draw(output='mpl', initial_state=1)"
   ]
  },
  {
   "cell_type": "code",
   "execution_count": 5,
   "id": "e767d8c0",
   "metadata": {},
   "outputs": [
    {
     "data": {
      "image/png": "[encoded data removed]",
      "text/plain": [
       "<Figure size 216x216 with 1 Axes>"
      ]
     },
     "execution_count": 5,
     "metadata": {},
     "output_type": "execute_result"
    }
   ],
   "source": [
    "# Get a simulator.\n",
    "sim = qiskit.Aer.get_backend('aer_simulator')\n",
    "\n",
    "# Simulte the circuit.\n",
    "result = sim.run(circuit).result().get_counts()\n",
    "\n",
    "# Histogram.\n",
    "viz.plot_histogram(result, figsize=(3, 3))"
   ]
  },
  {
   "cell_type": "markdown",
   "id": "4d506858",
   "metadata": {},
   "source": [
    "___\n",
    "## **Going forward only the state of  $1 \\rangle$ will be Created**\n",
    "___"
   ]
  },
  {
   "cell_type": "markdown",
   "id": "fc938830",
   "metadata": {},
   "source": [
    "### X Gate\n",
    "$ X = \\begin{bmatrix} 0 & 1 \\\\ 1 & 0 \\end{bmatrix} $   <br>\n",
    "The X Gate is one of three Pauli gates, Y and Z occupy the other two, more on them later. The X gate flips state of a qubit from 0 to 1, or vice versa, and is often used to initialize qubits to the 1 state.   \n",
    "It is also known as the NOT Gate.. The X Gate is common building block of quantum circuits and is used in many quantum algorithms"
   ]
  },
  {
   "cell_type": "code",
   "execution_count": 6,
   "id": "805cce5a",
   "metadata": {},
   "outputs": [
    {
     "data": {
      "image/png": "[encoded data removed]",
      "text/plain": [
       "<Figure size 237.569x144.48 with 1 Axes>"
      ]
     },
     "execution_count": 6,
     "metadata": {},
     "output_type": "execute_result"
    }
   ],
   "source": [
    "# Create a circuit.\n",
    "circuit = qiskit.QuantumCircuit(1, 1)\n",
    "\n",
    "# Add a gate.\n",
    "circuit.x(0)\n",
    "\n",
    "# Measure.\n",
    "circuit.measure(0, 0)\n",
    "\n",
    "# Draw the circuit\n",
    "circuit.draw(output='mpl', initial_state=1)"
   ]
  },
  {
   "cell_type": "code",
   "execution_count": 7,
   "id": "c0e332ef",
   "metadata": {},
   "outputs": [
    {
     "data": {
      "image/png": "[encoded data removed]",
      "text/plain": [
       "<Figure size 216x216 with 1 Axes>"
      ]
     },
     "execution_count": 7,
     "metadata": {},
     "output_type": "execute_result"
    }
   ],
   "source": [
    "# Get a simulator.\n",
    "sim = qiskit.Aer.get_backend('aer_simulator')\n",
    "\n",
    "# Simulte the circuit.\n",
    "result = sim.run(circuit).result().get_counts()\n",
    "\n",
    "# Histogram.\n",
    "viz.plot_histogram(result, figsize=(3, 3))"
   ]
  },
  {
   "cell_type": "markdown",
   "id": "51d488cf",
   "metadata": {},
   "source": [
    "### Y Gate\n",
    "$ Y = \\begin{bmatrix} 0 & -i \\\\ i & 0 \\end{bmatrix} $   <br>\n",
    "Y Gate can flip the qubits state around the Y-Axis\n"
   ]
  },
  {
   "cell_type": "code",
   "execution_count": 8,
   "id": "dbf9f4bb",
   "metadata": {},
   "outputs": [
    {
     "data": {
      "image/png": "[encoded data removed]",
      "text/plain": [
       "<Figure size 237.569x144.48 with 1 Axes>"
      ]
     },
     "execution_count": 8,
     "metadata": {},
     "output_type": "execute_result"
    }
   ],
   "source": [
    "# Create the circuit\n",
    "circuit = qiskit.QuantumCircuit(1,1)\n",
    "\n",
    "#Add the Y Gate\n",
    "circuit.y(0)\n",
    "\n",
    "#Measure\n",
    "circuit.measure(0,0)\n",
    "\n",
    "# Draw the circuit\n",
    "circuit.draw(output='mpl', initial_state=1)"
   ]
  },
  {
   "cell_type": "markdown",
   "id": "b271dd6d",
   "metadata": {},
   "source": [
    "### Z Gate\n",
    "$ Z = \\begin{bmatrix} 1 & 0 \\\\ 0 & -1 \\end{bmatrix} $   <br>\n",
    "Biggest difference with the Z Gate is it doesnt change the state of a qubit, because of this, it is often used to perform phase shifts in the quantum circuits.\n"
   ]
  },
  {
   "cell_type": "code",
   "execution_count": 9,
   "id": "24bae624",
   "metadata": {},
   "outputs": [
    {
     "data": {
      "image/png": "[encoded data removed]",
      "text/plain": [
       "<Figure size 237.569x144.48 with 1 Axes>"
      ]
     },
     "execution_count": 9,
     "metadata": {},
     "output_type": "execute_result"
    }
   ],
   "source": [
    "# Create the circuit\n",
    "circuit = qiskit.QuantumCircuit(1,1)\n",
    "\n",
    "#Add the Y Gate\n",
    "circuit.y(0)\n",
    "\n",
    "#Measure\n",
    "circuit.measure(0,0)\n",
    "\n",
    "# Draw the circuit\n",
    "circuit.draw(output='mpl', initial_state=1)"
   ]
  },
  {
   "cell_type": "markdown",
   "id": "41025432",
   "metadata": {},
   "source": [
    "## Multi-Qubit States\n",
    "\n",
    "Up until this point we looked a handful o f gates, but these were single Qubit gates which are great and all but are very simple in nature, going forward we will explore some more complex stats and get into entangled states and much more. <br><br>\n",
    "So with single qubits we have two possible states, 0 and 1, binary essentially, so if we increase the amount of bits 1 more, we know have two bits meaning four possible states: \n",
    "<ul>\n",
    "  <li>00</li>\n",
    "  <li>01</li>\n",
    "  <li>10</li>\n",
    "  <li>11</li>\n",
    "</ul>\n",
    "We store these amplitudes in a 4D-Vector <br>\n",
    "$ |x\\rangle = x_{00}|00 \\rangle +  x_{01}|01 \\rangle + x_{10}|10 \\rangle + x_{11}|11 \\rangle = \n",
    "\\begin{bmatrix} x_{00} \\\\ x_{01} \\\\ x_{10} \\\\ x_{11} \\end{bmatrix} $ <br><br>\n",
    "This can continue to be expanded, but its important to keep in mind that the vectors grow exponentially."
   ]
  },
  {
   "cell_type": "markdown",
   "id": "43be942b",
   "metadata": {},
   "source": [
    "## Swapping Qubits\n",
    "In Quantum Computing, commonly its needed to move information around. To achieve this we will use the SWAP Gate below."
   ]
  },
  {
   "cell_type": "code",
   "execution_count": 10,
   "id": "090f6f5c",
   "metadata": {},
   "outputs": [
    {
     "data": {
      "image/png": "[encoded data removed]",
      "text/plain": [
       "<Figure size 146.652x144.48 with 1 Axes>"
      ]
     },
     "execution_count": 10,
     "metadata": {},
     "output_type": "execute_result"
    }
   ],
   "source": [
    "# Declare two states\n",
    "s0 = 0\n",
    "s1 = 1\n",
    "\n",
    "# Create a circuit\n",
    "circuit = qiskit.QuantumCircuit(2)\n",
    "\n",
    "# Swap our delcared states\n",
    "circuit.swap(s0,s1)\n",
    "\n",
    "# then draw the result\n",
    "circuit.draw(output='mpl')"
   ]
  },
  {
   "cell_type": "markdown",
   "id": "ad7ff8c9",
   "metadata": {},
   "source": [
    "The command above directly invokes the gate"
   ]
  },
  {
   "cell_type": "code",
   "execution_count": 11,
   "id": "9f261549",
   "metadata": {},
   "outputs": [
    {
     "data": {
      "image/png": "[encoded data removed]",
      "text/plain": [
       "<Figure size 206.852x144.48 with 1 Axes>"
      ]
     },
     "execution_count": 11,
     "metadata": {},
     "output_type": "execute_result"
    }
   ],
   "source": [
    "# Create a circuit\n",
    "circuit = qiskit.QuantumCircuit(2)\n",
    "\n",
    "circuit.cx(s0,s1) # copies 1 from s0 to s1\n",
    "circuit.cx(s1,s0) # uses the 1 on s1 to rotate the state of s0 to 0\n",
    "\n",
    "# draw circuit\n",
    "circuit.draw(output='mpl')"
   ]
  },
  {
   "cell_type": "markdown",
   "id": "255d4281",
   "metadata": {},
   "source": [
    "Here we used the SWAP gate to change the state of our varibles to their inverse. Now lets swap them back to their right state"
   ]
  },
  {
   "cell_type": "code",
   "execution_count": 12,
   "id": "e9a79044",
   "metadata": {},
   "outputs": [
    {
     "data": {
      "image/png": "[encoded data removed]",
      "text/plain": [
       "<Figure size 327.252x144.48 with 1 Axes>"
      ]
     },
     "execution_count": 12,
     "metadata": {},
     "output_type": "execute_result"
    }
   ],
   "source": [
    "circuit.cx(s1,s0) \n",
    "circuit.cx(s0,s1) \n",
    "\n",
    "circuit.draw(output='mpl')"
   ]
  },
  {
   "cell_type": "markdown",
   "id": "e9d70779",
   "metadata": {},
   "source": [
    "In the example above, we are using a swap on the X Gate, Below we see it works with all kinds of gates. (Example is a H-Gate discussed earlier)"
   ]
  },
  {
   "cell_type": "code",
   "execution_count": 13,
   "id": "cc98ebca",
   "metadata": {},
   "outputs": [
    {
     "data": {
      "image/png": "[encoded data removed]",
      "text/plain": [
       "<Figure size 206.852x144.48 with 1 Axes>"
      ]
     },
     "execution_count": 13,
     "metadata": {},
     "output_type": "execute_result"
    }
   ],
   "source": [
    "# Create a circuit\n",
    "circuit = qiskit.QuantumCircuit(2)\n",
    "\n",
    "circuit.ch(s0,s1) # copies 1 from s0 to s1\n",
    "circuit.ch(s1,s0) # uses the 1 on s1 to rotate the state of s0 to 0\n",
    "\n",
    "# draw circuit\n",
    "circuit.draw(output='mpl')"
   ]
  },
  {
   "cell_type": "code",
   "execution_count": 14,
   "id": "a08fd509",
   "metadata": {},
   "outputs": [
    {
     "data": {
      "image/png": "[encoded data removed]",
      "text/plain": [
       "<Figure size 327.252x144.48 with 1 Axes>"
      ]
     },
     "execution_count": 14,
     "metadata": {},
     "output_type": "execute_result"
    }
   ],
   "source": [
    "circuit.ch(s1,s0) \n",
    "circuit.ch(s0,s1) \n",
    "\n",
    "circuit.draw(output='mpl')"
   ]
  },
  {
   "cell_type": "markdown",
   "id": "c4c3ddb4",
   "metadata": {},
   "source": [
    "## CNOT - Gate\n"
   ]
  },
  {
   "cell_type": "code",
   "execution_count": null,
   "id": "590ca8b3",
   "metadata": {},
   "outputs": [],
   "source": []
  },
  {
   "cell_type": "code",
   "execution_count": null,
   "id": "0ed22059",
   "metadata": {},
   "outputs": [],
   "source": []
  },
  {
   "cell_type": "code",
   "execution_count": null,
   "id": "33a35d22",
   "metadata": {},
   "outputs": [],
   "source": []
  },
  {
   "cell_type": "code",
   "execution_count": null,
   "id": "3538d936",
   "metadata": {},
   "outputs": [],
   "source": []
  },
  {
   "cell_type": "code",
   "execution_count": null,
   "id": "ed59b692",
   "metadata": {},
   "outputs": [],
   "source": []
  },
  {
   "cell_type": "code",
   "execution_count": null,
   "id": "be356013",
   "metadata": {},
   "outputs": [],
   "source": []
  },
  {
   "cell_type": "code",
   "execution_count": null,
   "id": "1c651c97",
   "metadata": {},
   "outputs": [],
   "source": []
  },
  {
   "cell_type": "code",
   "execution_count": null,
   "id": "35c57fcb",
   "metadata": {},
   "outputs": [],
   "source": []
  },
  {
   "cell_type": "code",
   "execution_count": null,
   "id": "3b6a8de1",
   "metadata": {},
   "outputs": [],
   "source": []
  },
  {
   "cell_type": "code",
   "execution_count": null,
   "id": "2457ef71",
   "metadata": {},
   "outputs": [],
   "source": []
  },
  {
   "cell_type": "code",
   "execution_count": null,
   "id": "bd5ab3af",
   "metadata": {},
   "outputs": [],
   "source": []
  },
  {
   "cell_type": "code",
   "execution_count": null,
   "id": "a14bde61",
   "metadata": {},
   "outputs": [],
   "source": []
  },
  {
   "cell_type": "code",
   "execution_count": null,
   "id": "dc759d84",
   "metadata": {},
   "outputs": [],
   "source": []
  },
  {
   "cell_type": "code",
   "execution_count": null,
   "id": "3761b01d",
   "metadata": {},
   "outputs": [],
   "source": []
  },
  {
   "cell_type": "code",
   "execution_count": null,
   "id": "e8e04082",
   "metadata": {},
   "outputs": [],
   "source": []
  },
  {
   "cell_type": "code",
   "execution_count": null,
   "id": "bb830965",
   "metadata": {},
   "outputs": [],
   "source": []
  },
  {
   "cell_type": "code",
   "execution_count": null,
   "id": "4199295c",
   "metadata": {},
   "outputs": [],
   "source": []
  },
  {
   "cell_type": "code",
   "execution_count": null,
   "id": "f57f1c90",
   "metadata": {},
   "outputs": [],
   "source": []
  },
  {
   "cell_type": "code",
   "execution_count": null,
   "id": "38fb8670",
   "metadata": {},
   "outputs": [],
   "source": []
  },
  {
   "cell_type": "code",
   "execution_count": null,
   "id": "123d6246",
   "metadata": {},
   "outputs": [],
   "source": []
  },
  {
   "cell_type": "code",
   "execution_count": null,
   "id": "cfbef896",
   "metadata": {},
   "outputs": [],
   "source": []
  },
  {
   "cell_type": "code",
   "execution_count": null,
   "id": "e0ebb639",
   "metadata": {},
   "outputs": [],
   "source": []
  },
  {
   "cell_type": "code",
   "execution_count": null,
   "id": "9bdaa3cd",
   "metadata": {},
   "outputs": [],
   "source": []
  },
  {
   "cell_type": "code",
   "execution_count": null,
   "id": "99205782",
   "metadata": {},
   "outputs": [],
   "source": []
  },
  {
   "cell_type": "code",
   "execution_count": null,
   "id": "76cd8de2",
   "metadata": {},
   "outputs": [],
   "source": []
  },
  {
   "cell_type": "markdown",
   "id": "bfb406c9",
   "metadata": {},
   "source": [
    "https://qiskit.org/textbook/ch-states/single-qubit-gates.html"
   ]
  }
 ],
 "metadata": {
  "kernelspec": {
   "display_name": "Python 3 (ipykernel)",
   "language": "python",
   "name": "python3"
  },
  "language_info": {
   "codemirror_mode": {
    "name": "ipython",
    "version": 3
   },
   "file_extension": ".py",
   "mimetype": "text/x-python",
   "name": "python",
   "nbconvert_exporter": "python",
   "pygments_lexer": "ipython3",
   "version": "3.9.7"
  }
 },
 "nbformat": 4,
 "nbformat_minor": 5
}
